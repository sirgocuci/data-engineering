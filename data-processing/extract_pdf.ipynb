{
 "cells": [
  {
   "cell_type": "code",
   "execution_count": 9,
   "id": "6673de83",
   "metadata": {
    "scrolled": true
   },
   "outputs": [],
   "source": [
    "import PyPDF2\n",
    "import os\n",
    "import pandas as pd\n",
    "\n",
    "def get_pdf_files(directory):\n",
    "    return [os.path.join(directory, file) for file in os.listdir(directory) if file.lower().endswith('.pdf')]\n",
    "\n",
    "def extract_text_from_pdfs(pdf_paths):\n",
    "    data = []\n",
    "    for pdf_path in pdf_paths:\n",
    "        try:\n",
    "            full_text = \"\"  # Variabile per accumulare tutto il testo del PDF\n",
    "            with open(pdf_path, 'rb') as f:\n",
    "                reader = PyPDF2.PdfReader(f)\n",
    "                # Itera attraverso ogni pagina nel PDF\n",
    "                for page in reader.pages:\n",
    "                    text = page.extract_text() if page else ''\n",
    "                    text_cleaned = text.strip() if text else ''\n",
    "                    full_text += text_cleaned + \"\\n\"  # Unisce il testo di ogni pagina\n",
    "            # Aggiungi il dato per ogni PDF (una sola volta per PDF)\n",
    "            data.append({\n",
    "                'pdf_name': os.path.basename(pdf_path),\n",
    "                'content': full_text.strip()  # Rimuove eventuali spazi finali\n",
    "            })\n",
    "        except (PyPDF2.PdfReadError, FileNotFoundError, IOError) as e:\n",
    "            print(f\"Errore nella lettura del file '{pdf_path}': {e}\")\n",
    "        except Exception as e:\n",
    "            print(f\"Errore imprevisto nel file '{pdf_path}': {e}\")\n",
    "\n",
    "    return pd.DataFrame(data)\n"
   ]
  },
  {
   "cell_type": "code",
   "execution_count": 11,
   "id": "a0dec04b",
   "metadata": {
    "scrolled": true
   },
   "outputs": [
    {
     "data": {
      "text/html": [
       "<div>\n",
       "<style scoped>\n",
       "    .dataframe tbody tr th:only-of-type {\n",
       "        vertical-align: middle;\n",
       "    }\n",
       "\n",
       "    .dataframe tbody tr th {\n",
       "        vertical-align: top;\n",
       "    }\n",
       "\n",
       "    .dataframe thead th {\n",
       "        text-align: right;\n",
       "    }\n",
       "</style>\n",
       "<table border=\"1\" class=\"dataframe\">\n",
       "  <thead>\n",
       "    <tr style=\"text-align: right;\">\n",
       "      <th></th>\n",
       "      <th>pdf_name</th>\n",
       "      <th>content</th>\n",
       "    </tr>\n",
       "  </thead>\n",
       "  <tbody>\n",
       "    <tr>\n",
       "      <th>0</th>\n",
       "      <td>sample-1.pdf</td>\n",
       "      <td>Your Company\\n123 Your Street \\nYour City, ST ...</td>\n",
       "    </tr>\n",
       "    <tr>\n",
       "      <th>1</th>\n",
       "      <td>sample-2.pdf</td>\n",
       "      <td>Your Name\\n123 Your Street \\nYour City, ST 123...</td>\n",
       "    </tr>\n",
       "    <tr>\n",
       "      <th>2</th>\n",
       "      <td>sample-3.pdf</td>\n",
       "      <td>H e l l o \\nI ’ m  Y o u r  N a m e\\n123 YOUR ...</td>\n",
       "    </tr>\n",
       "  </tbody>\n",
       "</table>\n",
       "</div>"
      ],
      "text/plain": [
       "       pdf_name                                            content\n",
       "0  sample-1.pdf  Your Company\\n123 Your Street \\nYour City, ST ...\n",
       "1  sample-2.pdf  Your Name\\n123 Your Street \\nYour City, ST 123...\n",
       "2  sample-3.pdf  H e l l o \\nI ’ m  Y o u r  N a m e\\n123 YOUR ..."
      ]
     },
     "metadata": {},
     "output_type": "display_data"
    }
   ],
   "source": [
    "# Specifica la directory contenente i PDF\n",
    "pdf_directory =  './pdfs'\n",
    "\n",
    "# Trova tutti i file PDF nella directory\n",
    "pdf_files = get_pdf_files(pdf_directory)\n",
    "\n",
    "if not pdf_files:\n",
    "    print(\"Nessun file PDF trovato nella directory specificata.\")\n",
    "else:\n",
    "    # Estrazione dei dati di testo\n",
    "    text_df = extract_text_from_pdfs(pdf_files)\n",
    "\n",
    "    if text_df.empty:\n",
    "        print(\"Non è stato possibile estrarre alcun testo dai PDF.\")\n",
    "    else:\n",
    "        # Mostra le prime righe del DataFrame risultante\n",
    "        display(text_df.head())\n"
   ]
  },
  {
   "cell_type": "code",
   "execution_count": null,
   "id": "364a7f2b",
   "metadata": {},
   "outputs": [],
   "source": []
  }
 ],
 "metadata": {
  "kernelspec": {
   "display_name": "Python 3 (ipykernel)",
   "language": "python",
   "name": "python3"
  },
  "language_info": {
   "codemirror_mode": {
    "name": "ipython",
    "version": 3
   },
   "file_extension": ".py",
   "mimetype": "text/x-python",
   "name": "python",
   "nbconvert_exporter": "python",
   "pygments_lexer": "ipython3",
   "version": "3.11.5"
  }
 },
 "nbformat": 4,
 "nbformat_minor": 5
}
